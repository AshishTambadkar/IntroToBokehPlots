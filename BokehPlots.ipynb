{
 "cells": [
  {
   "cell_type": "code",
   "execution_count": 2,
   "metadata": {},
   "outputs": [],
   "source": [
    "#Making Basic Line Graph\n",
    "\n",
    "#Importing Bokeh\n",
    "from bokeh.plotting import figure\n",
    "from bokeh.io import output_file, show\n",
    "\n",
    "#Prepare soem data \n",
    "x = [1,2,3,4,5]\n",
    "y = [6,7,8,9,10] #same number of length otherwise it will throw an error\n",
    "\n",
    "#Prepare output file\n",
    "output_file(\"line.html\")\n",
    "\n",
    "#create figure object\n",
    "f = figure()\n",
    "\n",
    "#create line plot \n",
    "f.line(x,y)\n",
    "\n",
    "show(f)"
   ]
  },
  {
   "cell_type": "code",
   "execution_count": 6,
   "metadata": {},
   "outputs": [],
   "source": [
    "#dir(f)"
   ]
  },
  {
   "cell_type": "code",
   "execution_count": 4,
   "metadata": {},
   "outputs": [],
   "source": [
    "#create triangle plot \n",
    "f.triangle(x,y)\n",
    "\n",
    "show(f)"
   ]
  },
  {
   "cell_type": "code",
   "execution_count": 5,
   "metadata": {},
   "outputs": [],
   "source": [
    "#create circle plot \n",
    "f.circle(x,y)\n",
    "\n",
    "show(f)"
   ]
  },
  {
   "cell_type": "code",
   "execution_count": 7,
   "metadata": {},
   "outputs": [],
   "source": [
    "#Making Basic Line Graph using Pandas\n",
    "\n",
    "#Importing Bokeh\n",
    "from bokeh.plotting import figure\n",
    "from bokeh.io import output_file, show\n",
    "import pandas as pd \n",
    "\n",
    "#Prepare soem data using pandas\n",
    "df = pd.read_csv(\"data.csv\")\n",
    "x = df[\"x\"]\n",
    "y = df[\"y\"]\n",
    "\n",
    "#Prepare output file\n",
    "output_file(\"line_csv_file.html\")\n",
    "\n",
    "#create figure object\n",
    "f = figure()\n",
    "\n",
    "#create line plot \n",
    "f.line(x,y)\n",
    "\n",
    "show(f)"
   ]
  },
  {
   "cell_type": "code",
   "execution_count": 10,
   "metadata": {},
   "outputs": [
    {
     "data": {
      "text/plain": [
       "pandas.core.series.Series"
      ]
     },
     "execution_count": 10,
     "metadata": {},
     "output_type": "execute_result"
    }
   ],
   "source": [
    "type(df[\"y\"])"
   ]
  },
  {
   "cell_type": "code",
   "execution_count": 21,
   "metadata": {},
   "outputs": [],
   "source": [
    "#Time Series Plot using Bokeh and Pandas\n",
    "\n",
    "from bokeh.plotting import figure, output_file, show\n",
    "import pandas as pd\n",
    "\n",
    "#Read data using Pandas\n",
    "df = pd.read_csv(\"adbe.csv\", parse_dates = [\"Date\"])\n",
    "\n",
    "#Create figure object \n",
    "f = figure(width = 500, height = 250, x_axis_type = \"datetime\")\n",
    "\n",
    "#Plot the graph\n",
    "f.line(df[\"Date\"], df[\"Close\"],color =\"Orange\", alpha = 0.5)\n",
    "\n",
    "#Output file\n",
    "output_file(\"Timeseries.html\")\n",
    "\n",
    "show(f)"
   ]
  }
 ],
 "metadata": {
  "kernelspec": {
   "display_name": "Python 3",
   "language": "python",
   "name": "python3"
  },
  "language_info": {
   "codemirror_mode": {
    "name": "ipython",
    "version": 3
   },
   "file_extension": ".py",
   "mimetype": "text/x-python",
   "name": "python",
   "nbconvert_exporter": "python",
   "pygments_lexer": "ipython3",
   "version": "3.7.3"
  }
 },
 "nbformat": 4,
 "nbformat_minor": 2
}
